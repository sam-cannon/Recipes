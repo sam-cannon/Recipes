{
 "cells": [
  {
   "cell_type": "markdown",
   "metadata": {},
   "source": [
    "# Strip PDFs and export text to csv file\n",
    "- I wrote this function to automate the process of copying and pasting pdf files for a business"
   ]
  },
  {
   "cell_type": "code",
   "execution_count": null,
   "metadata": {},
   "outputs": [],
   "source": [
    "def pdf_magic(rootdir):\n",
    "    \n",
    "    #TODO: update with method for extracting specific page numbers\n",
    "    \n",
    "    '''iterates through a folder directory, extracts text from PDFs, converts the distinct text to a dataframe,\n",
    "    and exports the dataframe as a csv file with name - 'text_df' - \n",
    "     arguments: rootdir = filepath to the folder you want the function to iterate through'''\n",
    "    \n",
    "    text_list = []\n",
    "    \n",
    "    for subdir, dirs, files in os.walk(rootdir):\n",
    "        for file in files:\n",
    "            doc = fitz.open(file)\n",
    "            page = doc[0]\n",
    "            text = page.getText(\"text\")                    \n",
    "                \n",
    "            text_list.append(text)            \n",
    "            doc.close()\n",
    "            df = pd.DataFrame(text_list, columns = ['text'])\n",
    "            df.to_csv('text_df.csv')                         #change name of csv file if you wish\n",
    "    return df"
   ]
  }
 ],
 "metadata": {
  "kernelspec": {
   "display_name": "Python 3",
   "language": "python",
   "name": "python3"
  },
  "language_info": {
   "codemirror_mode": {
    "name": "ipython",
    "version": 3
   },
   "file_extension": ".py",
   "mimetype": "text/x-python",
   "name": "python",
   "nbconvert_exporter": "python",
   "pygments_lexer": "ipython3",
   "version": "3.7.3"
  }
 },
 "nbformat": 4,
 "nbformat_minor": 4
}
